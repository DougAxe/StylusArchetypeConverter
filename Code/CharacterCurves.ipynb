{
 "cells": [
  {
   "cell_type": "markdown",
   "id": "waiting-execution",
   "metadata": {},
   "source": [
    "## Import modules\n",
    "If you don't have these, they can all be installed via pip install on the command line"
   ]
  },
  {
   "cell_type": "code",
   "execution_count": 1,
   "id": "upper-meditation",
   "metadata": {},
   "outputs": [],
   "source": [
    "import bezier\n",
    "from tkinter import *\n",
    "import numpy as np\n",
    "from PIL import ImageGrab"
   ]
  },
  {
   "cell_type": "markdown",
   "id": "brilliant-reservoir",
   "metadata": {},
   "source": [
    "## Drawing and click functions\n",
    "Have a list of strokes, left click adds a control point to the current stroke, right click moves on to the next stroke, middle click clears the canvas."
   ]
  },
  {
   "cell_type": "code",
   "execution_count": 4,
   "id": "wooden-dylan",
   "metadata": {},
   "outputs": [],
   "source": [
    "currChar = [] #list of strokes\n",
    "currStroke = [] #list of control points\n",
    "\n",
    "def clickEventPoint(event): #click event\n",
    "    global currChar #force function to use global vars\n",
    "    global currStroke\n",
    "    \n",
    "    #print(\"clicked at\", event.x, event.y)\n",
    "    tempChar = currChar.copy()\n",
    "    currStroke.append([event.x, event.y])\n",
    "    tempChar.append(currStroke)\n",
    "    graphChar(tempChar)\n",
    "    #print(tempChar)\n",
    "    \n",
    "def clickEventStroke(event): #click event\n",
    "    global currChar #force function to use global vars\n",
    "    global currStroke\n",
    "    \n",
    "    currChar.append(currStroke)\n",
    "    currStroke = [] #new stroke\n",
    "    graphChar(currChar)\n",
    "\n",
    "def clickEventClear(event): #click event\n",
    "    global currChar #force function to use global vars\n",
    "    global currStroke\n",
    "    global drawChar\n",
    "    \n",
    "    currChar = [] #reset lists\n",
    "    currStroke = []\n",
    "    graphChar(currChar) #just redraw with the now empty currChar data\n",
    "    \n",
    "def graphChar(strokeList): #draw the char\n",
    "    global currChar #force function to use global vars\n",
    "    global currStroke\n",
    "    global drawChar\n",
    "    \n",
    "    pr = 3 #point radius size\n",
    "    lineWidth = 35\n",
    "    evalPoints = np.linspace(0.0, 1.0, 50) #start, end, resol, parametric t values\n",
    "    canvas.delete(\"all\") #clear the canvas of all objects\n",
    "    canvas.create_text(400, 400, text=drawChar, font=('Microsoft YaHei','500'), fill='#555555')\n",
    "    for stroke in strokeList:\n",
    "        #graph control points\n",
    "        for point in stroke: #control points, \n",
    "            canvas.create_oval(point[0]-pr, point[1]-pr, point[0]+pr, point[1]+pr, fill='#00AA00')\n",
    "        if(len(stroke)>1):\n",
    "            canvas.create_line(stroke, fill ='#00AA00', width=1)\n",
    "        #graph actual curve (bezier, use package)\n",
    "        nodes = np.array(stroke).transpose()\n",
    "        curve = bezier.Curve(nodes, degree=len(stroke)-1)\n",
    "        curvePoints = curve.evaluate_multi(evalPoints).transpose().tolist() #[x_value list, y_value list]\n",
    "        canvas.create_line(curvePoints, fill='#000000', width=lineWidth)\n",
    "        \n",
    "def onTextChange(event): #user entered a char\n",
    "    global drawChar\n",
    "    drawChar = charEntry.get()\n",
    "    clickEventClear(0) #default arg of 0 as the event arg isn't used\n",
    "    \n",
    "def onTextClear(event): #user is going to enter a char, clear the current char (1 max char in entry box)\n",
    "    entryText.set('')\n",
    "\n",
    "#from: https://www.pythonfixing.com/2022/06/fixed-how-to-save-tkinter-canvas-as.html\n",
    "def saveCanvasAsImage(): #literally screen captures \n",
    "    x=root.winfo_rootx()+canvas.winfo_x()\n",
    "    y=root.winfo_rooty()+canvas.winfo_y()\n",
    "    x1=x+canvas.winfo_width()\n",
    "    y1=y+canvas.winfo_height()\n",
    "    print(x,y,x1,y1)\n",
    "    ImageGrab.grab().crop((x,y,x1,y1)).save(\"tempChar.png\")"
   ]
  },
  {
   "cell_type": "markdown",
   "id": "extensive-fishing",
   "metadata": {},
   "source": [
    "## Basic tkinter app to run our canvas\n",
    "Setup the basic app, and connect the event functions on mouse clicks"
   ]
  },
  {
   "cell_type": "code",
   "execution_count": null,
   "id": "organic-california",
   "metadata": {},
   "outputs": [],
   "source": [
    "drawChar = '㇀'\n",
    "canvasSize = 800\n",
    "\n",
    "# Create object and size\n",
    "root = Tk()\n",
    "root.geometry( \"800x850\" )\n",
    "\n",
    "#add label for draw char, label, text\n",
    "charLabel = Label(root, text = \"Char: \")\n",
    "charLabel.pack()\n",
    "\n",
    "#handle user typing in a char\n",
    "entryText = StringVar()\n",
    "charEntry = Entry(root, width = 10, justify=\"center\", textvariable=entryText)\n",
    "entryText.set(drawChar) #default char\n",
    "charEntry.bind(\"<KeyPress>\", onTextClear) #user is about to finish typing a char\n",
    "charEntry.bind(\"<KeyRelease>\", onTextChange) #user entered a char\n",
    "charEntry.pack()\n",
    "\n",
    "#button for processing the button\n",
    "processBtn = Button(root, text =\"Gen. Strokes\", command = saveCanvasAsImage)\n",
    "processBtn.pack()\n",
    "\n",
    "#canvas for drawing characters and strokes\n",
    "canvas = Canvas(root, bg=\"white\", height=canvasSize, width=canvasSize) #our drawing board\n",
    "canvas.create_text(400, 400, text=drawChar, font=('Microsoft YaHei','500'), fill='#555555')\n",
    "clickEventClear(0) #default arg of 0 as the event arg isn't used\n",
    "canvas.pack()\n",
    "\n",
    "#reset the lists before we re-run the tkinter app\n",
    "currChar = []\n",
    "currStroke = []\n",
    "\n",
    "canvas.bind(\"<Button-1>\", clickEventPoint) #setup the left click event, add a control point\n",
    "canvas.bind(\"<Button-2>\", clickEventClear) #setup the left click event, clear the canvas\n",
    "canvas.bind(\"<Button-3>\", clickEventStroke) #setup the right click event, finalize stroke\n",
    "\n",
    "root.mainloop() #run the app"
   ]
  },
  {
   "cell_type": "code",
   "execution_count": 19,
   "id": "tamil-oasis",
   "metadata": {},
   "outputs": [
    {
     "name": "stdout",
     "output_type": "stream",
     "text": [
      "[[[166, 542], [455, 462], [636, 181]]]\n"
     ]
    }
   ],
   "source": [
    "print(currChar)"
   ]
  },
  {
   "cell_type": "markdown",
   "id": "refined-gothic",
   "metadata": {},
   "source": [
    "## Processing in Image down to \"vertices\"\n",
    "Decay an image continually by the following rule\n",
    "\n",
    "Run the following algorithm:\n",
    "\n",
    "    for every pixel:\n",
    "        if it is black remove on the following condition:\n",
    "            if there exists a white neighbor (4 nearest)\n",
    "            if there exists a black neighbor (4 nearest)\n",
    "        do a pass one pixel at a time (don't update the image all at once\n",
    "        \n",
    "How fun doesn't work,\n",
    "Different algorithm:\n",
    "    \n",
    "    for every pixel:\n",
    "        mark a pixel if it borders a white pixel (8 neigh)\n",
    "        delete a marked pixel if it borders a black pixel which isn't marked\n",
    "    do whole image passes at a time\n",
    "    continue this until there is no change after an iteration"
   ]
  },
  {
   "cell_type": "code",
   "execution_count": 13,
   "id": "extended-principle",
   "metadata": {},
   "outputs": [
    {
     "data": {
      "text/plain": [
       "<matplotlib.image.AxesImage at 0x2dc6cb3b1c0>"
      ]
     },
     "execution_count": 13,
     "metadata": {},
     "output_type": "execute_result"
    },
    {
     "data": {
      "image/png": "[encoded data removed]",
      "text/plain": [
       "<Figure size 432x288 with 1 Axes>"
      ]
     },
     "metadata": {
      "needs_background": "light"
     },
     "output_type": "display_data"
    }
   ],
   "source": [
    "from matplotlib import image\n",
    "from matplotlib import pyplot as plt\n",
    "\n",
    "rawImage = image.imread('tempChar.png')\n",
    "plt.imshow(rawImage)"
   ]
  },
  {
   "cell_type": "code",
   "execution_count": 14,
   "id": "incorporate-senator",
   "metadata": {},
   "outputs": [
    {
     "name": "stdout",
     "output_type": "stream",
     "text": [
      "800\n"
     ]
    },
    {
     "data": {
      "text/plain": [
       "<matplotlib.image.AxesImage at 0x2dc6d0b8ac0>"
      ]
     },
     "execution_count": 14,
     "metadata": {},
     "output_type": "execute_result"
    },
    {
     "data": {
      "image/png": "[encoded data removed]",
      "text/plain": [
       "<Figure size 432x288 with 1 Axes>"
      ]
     },
     "metadata": {
      "needs_background": "light"
     },
     "output_type": "display_data"
    }
   ],
   "source": [
    "origShape = np.shape(rawImage)\n",
    "print(origShape[1])\n",
    "simpleImage = np.ones((origShape[0], origShape[1])) #grayscale, each pixel should be black or white\n",
    "#already all white, fill in black pixels\n",
    "blackMask = np.logical_or(rawImage[:,:,0]<.8, rawImage[:,:,1]<.8, rawImage[:,:,2]<.8) #white enough\n",
    "simpleImage[blackMask] = 0 #black pixels\n",
    "\n",
    "plt.imshow(simpleImage, cmap='gray', vmin=0, vmax=1)"
   ]
  },
  {
   "cell_type": "code",
   "execution_count": 15,
   "id": "deluxe-participant",
   "metadata": {},
   "outputs": [],
   "source": [
    "def simplifyImage(orig): #return next iteration and bool isChanged flag\n",
    "    newImage = orig.copy()\n",
    "    imgSum = getNeighSum2(orig) #if val >= 1, it has a white neighbor and is marked\n",
    "\n",
    "    invertedImgSum = np.zeros(np.shape(imgSum)) #make 1 if unmarked, 0 if white/marked\n",
    "    invertedImgSum[imgSum == 0] = 1 #1 for unmarked, all other pixels are already 0\n",
    "    unmarkedSum = getNeighSum2(invertedImgSum) #if cell has val >= 1, there exists an unmarked neighbor\n",
    "\n",
    "    #make a cell white if it is marked and exists an unmarked black neighbor\n",
    "    deleteMask = np.logical_and(imgSum >= 1, unmarkedSum >= 1)\n",
    "    newImage[deleteMask] = 1 #make white\n",
    "    return newImage, not np.array_equiv(newImage, orig)\n",
    "\n",
    "def getNeighSum(orig): #9 sum neighbor (including itself)\n",
    "    imShape = np.shape(orig)\n",
    "    neighSums = np.zeros(np.shape(orig))\n",
    "    #take the 9 neigh offset frames and add to the corresponding pixel (note we ignore edges)\n",
    "    for offY in range(0,3): #-1 to 1\n",
    "        for offX in range(0,3): #-1 to 1\n",
    "            neighSums[1:-1, 1:-1] += orig[ offY: imShape[0] + (-2+offY) , offX: imShape[1] + (-2+offX)]\n",
    "    #now any cell with a white neigh (including itself) has a val >= 1\n",
    "    return neighSums\n",
    "\n",
    "def getNeighSum2(orig): #5 sum neighbor (including itself)\n",
    "    imShape = np.shape(orig)\n",
    "    neighSums = np.zeros(np.shape(orig))\n",
    "    #take the 9 neigh offset frames and add to the corresponding pixel (note we ignore edges)\n",
    "    for offY in range(0,3,2): #-1, 1\n",
    "        neighSums[1:-1, 1:-1] += orig[ offY: imShape[0] + (-2+offY) , 1:-1 ]\n",
    "    for offX in range(0,3,2): #-1, 1\n",
    "        neighSums[1:-1, 1:-1] += orig[ 1:-1 , offX: imShape[1] + (-2+offX) ]\n",
    "    neighSums[1:-1, 1:-1] += orig[ 1:-1, 1:-1 ] #count the center pixel itself\n",
    "    #now any cell with a white neigh (including itself) has a val >= 1\n",
    "    return neighSums\n",
    "\n",
    "def removeLonely(orig): #remove a black pixel if it has no black neighbors\n",
    "    newImage = orig.copy()\n",
    "    neighSums = getNeighSum2(orig) #5 neighbor sum, surrounded if val == 4\n",
    "    blackMask = np.logical_and(neighSums == 4, orig == 0) #black and surrounded by white\n",
    "    newImage[blackMask] = 1 #make white\n",
    "    return newImage"
   ]
  },
  {
   "cell_type": "code",
   "execution_count": 16,
   "id": "august-breath",
   "metadata": {},
   "outputs": [
    {
     "data": {
      "text/plain": [
       "<matplotlib.image.AxesImage at 0x2dc7145bac0>"
      ]
     },
     "execution_count": 16,
     "metadata": {},
     "output_type": "execute_result"
    },
    {
     "data": {
      "image/png": "[encoded data removed]",
      "text/plain": [
       "<Figure size 432x288 with 1 Axes>"
      ]
     },
     "metadata": {
      "needs_background": "light"
     },
     "output_type": "display_data"
    }
   ],
   "source": [
    "vImg = simpleImage.copy()\n",
    "changed = True\n",
    "i=0\n",
    "while(changed): #keep refining until image is as simplified as possible.\n",
    "    vImg, changed = simplifyImage(vImg)\n",
    "vImg = removeLonely(vImg)\n",
    "plt.imshow(vImg, cmap='gray', vmin=0, vmax=1)\n",
    "#plt.imsave(\"testRefine.png\", vImg, cmap='gray', vmin=0, vmax=1)"
   ]
  },
  {
   "cell_type": "code",
   "execution_count": 17,
   "id": "elegant-catch",
   "metadata": {},
   "outputs": [],
   "source": [
    "plt.imsave(\"testRefined4.png\", vImg, cmap='gray', vmin=0, vmax=1)"
   ]
  },
  {
   "cell_type": "code",
   "execution_count": 204,
   "id": "minor-toddler",
   "metadata": {},
   "outputs": [
    {
     "data": {
      "text/plain": [
       "<matplotlib.image.AxesImage at 0x1c4473d80d0>"
      ]
     },
     "execution_count": 204,
     "metadata": {},
     "output_type": "execute_result"
    },
    {
     "data": {
      "image/png": "[encoded data removed]",
      "text/plain": [
       "<Figure size 432x288 with 1 Axes>"
      ]
     },
     "metadata": {
      "needs_background": "light"
     },
     "output_type": "display_data"
    }
   ],
   "source": [
    "#vImg = simpleImage.copy()\n",
    "vImg, changed = simplifyImage(vImg)\n",
    "plt.imshow(vImg, cmap='gray', vmin=0, vmax=1)"
   ]
  },
  {
   "cell_type": "code",
   "execution_count": null,
   "id": "laden-documentary",
   "metadata": {},
   "outputs": [],
   "source": []
  },
  {
   "cell_type": "code",
   "execution_count": 118,
   "id": "logical-arcade",
   "metadata": {},
   "outputs": [
    {
     "data": {
      "text/plain": [
       "<matplotlib.image.AxesImage at 0x27414943490>"
      ]
     },
     "execution_count": 118,
     "metadata": {},
     "output_type": "execute_result"
    },
    {
     "data": {
      "image/png": "[encoded data removed]",
      "text/plain": [
       "<Figure size 432x288 with 1 Axes>"
      ]
     },
     "metadata": {
      "needs_background": "light"
     },
     "output_type": "display_data"
    }
   ],
   "source": [
    "#apply algorithm\n",
    "vImg2 = vImg.copy()\n",
    "smallMask = np.ones((5,5))\n",
    "for i in range(1, origShape[0] - 2): #range to avoid out of bounds error\n",
    "    for j in range(1, origShape[1] - 2):\n",
    "        if(vImg[i,j] == 1): #skip if white pixel\n",
    "            continue\n",
    "        whiteNeighs = vImg[i-2:i+3, j-2:j+3] == smallMask\n",
    "        hasWhiteNeigh = vImg[i-1,j]==1 or vImg[i+1,j]==1 or vImg[i,j-1]==1 or vImg[i,j+1]==1\n",
    "        hasBlackNeigh = vImg[i-1,j]==0 or vImg[i+1,j]==0 or vImg[i,j-1]==0 or vImg[i,j+1]==0\n",
    "        if(hasWhiteNeigh and hasBlackNeigh): #has white and black neighbor not a vertice, delete\n",
    "            vImg2[i,j] = 1\n",
    "vImg = vImg2.copy()\n",
    "        \n",
    "plt.imshow(vImg2, cmap='gray', vmin=0, vmax=1)"
   ]
  },
  {
   "cell_type": "code",
   "execution_count": 114,
   "id": "vital-hierarchy",
   "metadata": {},
   "outputs": [],
   "source": [
    "plt.imsave('tempCharVertices.png', vImg2, cmap='gray', vmin=0, vmax=1)"
   ]
  },
  {
   "cell_type": "code",
   "execution_count": 120,
   "id": "difficult-nudist",
   "metadata": {},
   "outputs": [
    {
     "ename": "AttributeError",
     "evalue": "module 'numpy' has no attribute 'count'",
     "output_type": "error",
     "traceback": [
      "\u001b[1;31m---------------------------------------------------------------------------\u001b[0m",
      "\u001b[1;31mAttributeError\u001b[0m                            Traceback (most recent call last)",
      "\u001b[1;32m<ipython-input-120-0eaea765bae8>\u001b[0m in \u001b[0;36m<module>\u001b[1;34m\u001b[0m\n\u001b[0;32m      1\u001b[0m \u001b[0msmallMask\u001b[0m \u001b[1;33m=\u001b[0m \u001b[0mnp\u001b[0m\u001b[1;33m.\u001b[0m\u001b[0mones\u001b[0m\u001b[1;33m(\u001b[0m\u001b[1;33m(\u001b[0m\u001b[1;36m5\u001b[0m\u001b[1;33m,\u001b[0m\u001b[1;36m5\u001b[0m\u001b[1;33m)\u001b[0m\u001b[1;33m)\u001b[0m\u001b[1;33m\u001b[0m\u001b[1;33m\u001b[0m\u001b[0m\n\u001b[1;32m----> 2\u001b[1;33m \u001b[0mnp\u001b[0m\u001b[1;33m.\u001b[0m\u001b[0mcount\u001b[0m\u001b[1;33m(\u001b[0m\u001b[0mvImg\u001b[0m\u001b[1;33m[\u001b[0m\u001b[1;36m8\u001b[0m\u001b[1;33m-\u001b[0m\u001b[1;36m2\u001b[0m\u001b[1;33m:\u001b[0m\u001b[1;36m8\u001b[0m\u001b[1;33m+\u001b[0m\u001b[1;36m3\u001b[0m\u001b[1;33m,\u001b[0m \u001b[1;36m723\u001b[0m\u001b[1;33m-\u001b[0m\u001b[1;36m2\u001b[0m\u001b[1;33m:\u001b[0m\u001b[1;36m723\u001b[0m\u001b[1;33m+\u001b[0m\u001b[1;36m3\u001b[0m\u001b[1;33m]\u001b[0m \u001b[1;33m==\u001b[0m \u001b[0msmallMask\u001b[0m\u001b[1;33m)\u001b[0m\u001b[1;33m\u001b[0m\u001b[1;33m\u001b[0m\u001b[0m\n\u001b[0m",
      "\u001b[1;32m~\\AppData\\Local\\Programs\\Python\\Python38\\lib\\site-packages\\numpy\\__init__.py\u001b[0m in \u001b[0;36m__getattr__\u001b[1;34m(attr)\u001b[0m\n\u001b[0;32m    309\u001b[0m             \u001b[1;32mreturn\u001b[0m \u001b[0mTester\u001b[0m\u001b[1;33m\u001b[0m\u001b[1;33m\u001b[0m\u001b[0m\n\u001b[0;32m    310\u001b[0m \u001b[1;33m\u001b[0m\u001b[0m\n\u001b[1;32m--> 311\u001b[1;33m         raise AttributeError(\"module {!r} has no attribute \"\n\u001b[0m\u001b[0;32m    312\u001b[0m                              \"{!r}\".format(__name__, attr))\n\u001b[0;32m    313\u001b[0m \u001b[1;33m\u001b[0m\u001b[0m\n",
      "\u001b[1;31mAttributeError\u001b[0m: module 'numpy' has no attribute 'count'"
     ]
    }
   ],
   "source": [
    "smallMask = np.ones((5,5))\n",
    "np.count(vImg[8-2:8+3, 723-2:723+3] == smallMask)"
   ]
  },
  {
   "cell_type": "code",
   "execution_count": null,
   "id": "comic-receptor",
   "metadata": {},
   "outputs": [],
   "source": [
    "# 130.0     500.0' fractionalDistance='0.0' />\n",
    "# 420.0     500.0' fractionalDistance='0.60245219862639732' />\n",
    "# 405.34375 483.53125' fractionalDistance='0.64825099607375425' />\n",
    "# 389.875   467.125' fractionalDistance='0.69509430376468673' />\n",
    "# 373.59375 450.78125' fractionalDistance='0.74301917064145917' />\n",
    "# 356.5     434.5' fractionalDistance='0.79206019445633258' />\n",
    "# 338.59375 418.28125' fractionalDistance='0.84224966477024621' />\n",
    "# 319.875   402.125' fractionalDistance='0.89361770547550479' />\n",
    "# 300.34375 386.03125' fractionalDistance='0.94619241463617076' />\n",
    "# 280.0     370.0' fractionalDistance='1.0' />"
   ]
  }
 ],
 "metadata": {
  "kernelspec": {
   "display_name": "Python 3",
   "language": "python",
   "name": "python3"
  },
  "language_info": {
   "codemirror_mode": {
    "name": "ipython",
    "version": 3
   },
   "file_extension": ".py",
   "mimetype": "text/x-python",
   "name": "python",
   "nbconvert_exporter": "python",
   "pygments_lexer": "ipython3",
   "version": "3.8.8"
  }
 },
 "nbformat": 4,
 "nbformat_minor": 5
}
