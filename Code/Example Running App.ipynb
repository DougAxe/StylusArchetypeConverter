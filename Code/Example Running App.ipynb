{
 "cells": [
  {
   "cell_type": "code",
   "execution_count": 1,
   "id": "88b7b969",
   "metadata": {},
   "outputs": [
    {
     "name": "stdout",
     "output_type": "stream",
     "text": [
      "hello\n"
     ]
    }
   ],
   "source": [
    "print(\"hello\")"
   ]
  },
  {
   "cell_type": "code",
   "execution_count": 1,
   "id": "11051b2d",
   "metadata": {},
   "outputs": [],
   "source": [
    "import Drawer"
   ]
  },
  {
   "cell_type": "code",
   "execution_count": 2,
   "id": "46d4493c",
   "metadata": {},
   "outputs": [
    {
     "name": "stdout",
     "output_type": "stream",
     "text": [
      "[[[182, 591], [586, 438], [679, 207], [625, 91], [333, 159], [191, 347], [373, 362]], [[266, 438], [260, 545], [406, 632], [541, 544], [405, 329], [84, 318], [144, 174]], [[285, 98]], [[219, 270], [111, 415], [278, 596], [704, 511], [546, 184], [387, 87], [183, 49]], [[86, 465], [302, 617], [530, 671], [683, 374]]]\n"
     ]
    }
   ],
   "source": [
    "strokeData = Drawer.run()\n",
    "print(strokeData)"
   ]
  },
  {
   "cell_type": "code",
   "execution_count": null,
   "id": "ae9a1b0c",
   "metadata": {},
   "outputs": [],
   "source": []
  }
 ],
 "metadata": {
  "kernelspec": {
   "display_name": "Python 3 (ipykernel)",
   "language": "python",
   "name": "python3"
  },
  "language_info": {
   "codemirror_mode": {
    "name": "ipython",
    "version": 3
   },
   "file_extension": ".py",
   "mimetype": "text/x-python",
   "name": "python",
   "nbconvert_exporter": "python",
   "pygments_lexer": "ipython3",
   "version": "3.8.3"
  }
 },
 "nbformat": 4,
 "nbformat_minor": 5
}
