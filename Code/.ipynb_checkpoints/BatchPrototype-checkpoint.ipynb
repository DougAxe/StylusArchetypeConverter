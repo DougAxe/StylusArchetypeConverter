{
 "cells": [
  {
   "cell_type": "markdown",
   "id": "genetic-shirt",
   "metadata": {},
   "source": [
    "## Batch Mode\n",
    "Steps: (for any particular character)\n",
    "1. Load Hanzi data (HandImage)\n",
    "    a. For each stroke determine type and position (StrokeFit)\n",
    "2. Load character image\n",
    "3. Convert each stroke from Hanzi format to Arial format\n",
    "4. Map each Arial stroke based on character image (various methods could work, anchor points is current best)\n",
    "5. Readjust if needed\n",
    "6. Save to data folder.\n",
    "\n",
    "Note currently the geometry we're using is origin is top-left corner and max dimensions would be bottom right."
   ]
  },
  {
   "cell_type": "code",
   "execution_count": 1,
   "id": "postal-customs",
   "metadata": {
    "scrolled": false
   },
   "outputs": [],
   "source": [
    "import numpy as np\n",
    "import matplotlib.pyplot as plt\n",
    "\n",
    "import HandImage as hi\n",
    "import StrokeFit as sf\n",
    "from StrokeDef import StrokeType #needed for loading object properly\n",
    "import StrokeDef as sd\n",
    "\n",
    "from FitDef import FitData\n",
    "import FitDef as fd"
   ]
  },
  {
   "cell_type": "code",
   "execution_count": 2,
   "id": "champion-girlfriend",
   "metadata": {},
   "outputs": [],
   "source": [
    "def fitChar(character):\n",
    "    strokeData = hi.getStrokeData(character)\n",
    "    if(strokeData is None):\n",
    "        print(f\"No hanzi data found for {character}! Skipping...\")\n",
    "        return False #failed\n",
    "    #figChar, axChar = hi.plotChar(character)\n",
    "    strokeDict = sd.loadStrokeDict()\n",
    "    fits = sf.getFits(strokeData, strokeDict)\n",
    "    #figFit, axFit = sf.graphFits(strokeData, strokeDict, fits)\n",
    "\n",
    "    handDims = np.array([1000, 1000]) #this appears to be default always\n",
    "    arialDims = np.array([1000,1000]) #should be large enough for our purposes\n",
    "    arialFits = sf.mapFits(fits, handDims, arialDims)\n",
    "\n",
    "    fitData = FitData()\n",
    "    fitData.set(character, arialFits, arialDims)\n",
    "    fd.saveFits(fitData)\n",
    "    print(f\"{character} fitted and saved!\")\n",
    "    return True"
   ]
  },
  {
   "cell_type": "code",
   "execution_count": 2,
   "id": "robust-advance",
   "metadata": {},
   "outputs": [
    {
     "ename": "NameError",
     "evalue": "name 'i' is not defined",
     "output_type": "error",
     "traceback": [
      "\u001b[1;31m---------------------------------------------------------------------------\u001b[0m",
      "\u001b[1;31mNameError\u001b[0m                                 Traceback (most recent call last)",
      "\u001b[1;32m<ipython-input-2-c19aaece71be>\u001b[0m in \u001b[0;36m<module>\u001b[1;34m\u001b[0m\n\u001b[0;32m      3\u001b[0m \u001b[0mcharsDone\u001b[0m \u001b[1;33m=\u001b[0m \u001b[1;36m0\u001b[0m\u001b[1;33m\u001b[0m\u001b[1;33m\u001b[0m\u001b[0m\n\u001b[0;32m      4\u001b[0m \u001b[1;32mwhile\u001b[0m\u001b[1;33m(\u001b[0m\u001b[0mcharsDone\u001b[0m \u001b[1;33m<\u001b[0m \u001b[1;36m100\u001b[0m\u001b[1;33m)\u001b[0m\u001b[1;33m:\u001b[0m\u001b[1;33m\u001b[0m\u001b[1;33m\u001b[0m\u001b[0m\n\u001b[1;32m----> 5\u001b[1;33m     \u001b[0mcurrChar\u001b[0m \u001b[1;33m=\u001b[0m \u001b[0mchr\u001b[0m\u001b[1;33m(\u001b[0m\u001b[0mord\u001b[0m\u001b[1;33m(\u001b[0m\u001b[0mcharacter\u001b[0m\u001b[1;33m)\u001b[0m\u001b[1;33m+\u001b[0m\u001b[0mi\u001b[0m\u001b[1;33m)\u001b[0m\u001b[1;33m\u001b[0m\u001b[1;33m\u001b[0m\u001b[0m\n\u001b[0m\u001b[0;32m      6\u001b[0m     \u001b[1;32mif\u001b[0m\u001b[1;33m(\u001b[0m\u001b[0mfitChar\u001b[0m\u001b[1;33m(\u001b[0m\u001b[0mcurrChar\u001b[0m\u001b[1;33m)\u001b[0m\u001b[1;33m)\u001b[0m\u001b[1;33m:\u001b[0m\u001b[1;33m\u001b[0m\u001b[1;33m\u001b[0m\u001b[0m\n\u001b[0;32m      7\u001b[0m         \u001b[0mcharsDone\u001b[0m \u001b[1;33m+=\u001b[0m \u001b[1;36m1\u001b[0m\u001b[1;33m\u001b[0m\u001b[1;33m\u001b[0m\u001b[0m\n",
      "\u001b[1;31mNameError\u001b[0m: name 'i' is not defined"
     ]
    }
   ],
   "source": [
    "character = '\\u4f4d' #\\u4f4d seems the firt character hanzi writer has available\n",
    "\n",
    "charsDone = 0\n",
    "i = 0\n",
    "while(charsDone < 100):\n",
    "    currChar = chr(ord(character)+i)\n",
    "    if(fitChar(currChar)):\n",
    "        charsDone += 1\n",
    "    i += 1"
   ]
  },
  {
   "cell_type": "code",
   "execution_count": 17,
   "id": "comprehensive-pencil",
   "metadata": {},
   "outputs": [
    {
     "name": "stdout",
     "output_type": "stream",
     "text": [
      "位\n",
      "[1000 1000]\n",
      "Stroke type C0. x bounds: [ 64 334], y bounds: [  9 467].\n",
      "Stroke type D1. x bounds: [129. 383.], y bounds: [286 747].\n",
      "Stroke type D0. x bounds: [538 660], y bounds: [ 0 95].\n",
      "Stroke type D0. x bounds: [427 827], y bounds: [103. 368.].\n",
      "Stroke type D1. x bounds: [455 524], y bounds: [390 516].\n",
      "Stroke type C0. x bounds: [613 731], y bounds: [323 617].\n",
      "Stroke type D0. x bounds: [336 943], y bounds: [467. 827.].\n"
     ]
    }
   ],
   "source": [
    "fitData = fd.loadFits(character)\n",
    "print(fitData.character)\n",
    "print(fitData.size)\n",
    "for fit in fitData.fits:\n",
    "    print(fit)"
   ]
  }
 ],
 "metadata": {
  "kernelspec": {
   "display_name": "Python 3",
   "language": "python",
   "name": "python3"
  },
  "language_info": {
   "codemirror_mode": {
    "name": "ipython",
    "version": 3
   },
   "file_extension": ".py",
   "mimetype": "text/x-python",
   "name": "python",
   "nbconvert_exporter": "python",
   "pygments_lexer": "ipython3",
   "version": "3.8.8"
  }
 },
 "nbformat": 4,
 "nbformat_minor": 5
}
