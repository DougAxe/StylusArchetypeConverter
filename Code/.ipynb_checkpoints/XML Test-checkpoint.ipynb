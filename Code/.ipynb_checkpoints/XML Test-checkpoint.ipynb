{
 "cells": [
  {
   "cell_type": "markdown",
   "id": "contrary-geology",
   "metadata": {},
   "source": [
    "## Example of making an xml file and saving it"
   ]
  },
  {
   "cell_type": "code",
   "execution_count": 39,
   "id": "mobile-lunch",
   "metadata": {},
   "outputs": [],
   "source": [
    "from xml.etree import ElementTree as ET\n",
    "import FitDef as fd\n",
    "\n",
    "char = \"\\u4f4d\" #just an example char\n",
    "charData = fd.loadFits(char)\n",
    "\n",
    "hanDefinition = ET.Element('hanDefinition')\n",
    "hanDefinition.set(\"unicode\", format(ord(char), \"x\")) #e.g. 70D0\n",
    "hanDefinition.set(\"creationTool\",\"StylusApp 1.0\")\n",
    "\n",
    "boundsMain = ET.SubElement(hanDefinition, \"bounds\")\n",
    "#add attributes here\n",
    "\n",
    "groups = ET.SubElement(hanDefinition, 'groups')\n",
    "#add each group element and attributes...\n",
    "    \n",
    "strokes = ET.SubElement(hanDefinition, 'strokes')\n",
    "for fit in charData.fits:\n",
    "    stroke = ET.SubElement(strokes, 'group')\n",
    "    bounds = ET.SubElement(stroke, \"bounds\")\n",
    "#and so on...\n",
    "\n",
    "#save the xml to files\n",
    "tree = ET.ElementTree(hanDefinition)\n",
    "tree.write(\"../Data/test.xml\")\n",
    "#slightly awkward, but load the file we just wrote and append the xml decleration beforehand\n",
    "with open(\"../Data/XML/test.xml\", 'r') as file:\n",
    "    lines = file.readlines()\n",
    "with open(\"../Data/XML/test.xml\", 'w') as file:\n",
    "        file.write(\"<?xml version='1.0' standalone='no'?>\" + \"\\n\") #text in byte mode\n",
    "        for line in lines:\n",
    "            line  = line.replace(\">\", \">\\n\")\n",
    "            file.write(line + \"\\n\")"
   ]
  },
  {
   "cell_type": "code",
   "execution_count": null,
   "id": "discrete-bishop",
   "metadata": {},
   "outputs": [],
   "source": []
  }
 ],
 "metadata": {
  "kernelspec": {
   "display_name": "Python 3",
   "language": "python",
   "name": "python3"
  },
  "language_info": {
   "codemirror_mode": {
    "name": "ipython",
    "version": 3
   },
   "file_extension": ".py",
   "mimetype": "text/x-python",
   "name": "python",
   "nbconvert_exporter": "python",
   "pygments_lexer": "ipython3",
   "version": "3.8.8"
  }
 },
 "nbformat": 4,
 "nbformat_minor": 5
}
