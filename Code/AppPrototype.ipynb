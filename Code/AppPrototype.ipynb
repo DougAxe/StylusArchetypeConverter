{
 "cells": [
  {
   "cell_type": "code",
   "execution_count": 2,
   "id": "adjusted-difference",
   "metadata": {},
   "outputs": [],
   "source": [
    "import bezier\n",
    "from tkinter import *\n",
    "import numpy as np\n",
    "from PIL import ImageGrab"
   ]
  },
  {
   "cell_type": "code",
   "execution_count": 4,
   "id": "concerned-extension",
   "metadata": {},
   "outputs": [
    {
     "name": "stdout",
     "output_type": "stream",
     "text": [
      "-20991\n"
     ]
    }
   ],
   "source": [
    "print(ord('\\u4E00')-ord('\\u9FFF'))"
   ]
  },
  {
   "cell_type": "code",
   "execution_count": 3,
   "id": "exceptional-cardiff",
   "metadata": {},
   "outputs": [
    {
     "ename": "NameError",
     "evalue": "name 'drawChar' is not defined",
     "output_type": "error",
     "traceback": [
      "\u001b[1;31m---------------------------------------------------------------------------\u001b[0m",
      "\u001b[1;31mNameError\u001b[0m                                 Traceback (most recent call last)",
      "\u001b[1;32m<ipython-input-3-ccdc59026c36>\u001b[0m in \u001b[0;36m<module>\u001b[1;34m\u001b[0m\n\u001b[0;32m     13\u001b[0m \u001b[0mentryText\u001b[0m \u001b[1;33m=\u001b[0m \u001b[0mStringVar\u001b[0m\u001b[1;33m(\u001b[0m\u001b[1;33m)\u001b[0m\u001b[1;33m\u001b[0m\u001b[1;33m\u001b[0m\u001b[0m\n\u001b[0;32m     14\u001b[0m \u001b[0mcharEntry\u001b[0m \u001b[1;33m=\u001b[0m \u001b[0mEntry\u001b[0m\u001b[1;33m(\u001b[0m\u001b[0mroot\u001b[0m\u001b[1;33m,\u001b[0m \u001b[0mwidth\u001b[0m \u001b[1;33m=\u001b[0m \u001b[1;36m10\u001b[0m\u001b[1;33m,\u001b[0m \u001b[0mjustify\u001b[0m\u001b[1;33m=\u001b[0m\u001b[1;34m\"center\"\u001b[0m\u001b[1;33m,\u001b[0m \u001b[0mtextvariable\u001b[0m\u001b[1;33m=\u001b[0m\u001b[0mentryText\u001b[0m\u001b[1;33m)\u001b[0m\u001b[1;33m\u001b[0m\u001b[1;33m\u001b[0m\u001b[0m\n\u001b[1;32m---> 15\u001b[1;33m \u001b[0mentryText\u001b[0m\u001b[1;33m.\u001b[0m\u001b[0mset\u001b[0m\u001b[1;33m(\u001b[0m\u001b[0mdrawChar\u001b[0m\u001b[1;33m)\u001b[0m \u001b[1;31m#default char\u001b[0m\u001b[1;33m\u001b[0m\u001b[1;33m\u001b[0m\u001b[0m\n\u001b[0m\u001b[0;32m     16\u001b[0m \u001b[0mcharEntry\u001b[0m\u001b[1;33m.\u001b[0m\u001b[0mbind\u001b[0m\u001b[1;33m(\u001b[0m\u001b[1;34m\"<KeyPress>\"\u001b[0m\u001b[1;33m,\u001b[0m \u001b[0monTextClear\u001b[0m\u001b[1;33m)\u001b[0m \u001b[1;31m#user is about to finish typing a char\u001b[0m\u001b[1;33m\u001b[0m\u001b[1;33m\u001b[0m\u001b[0m\n\u001b[0;32m     17\u001b[0m \u001b[0mcharEntry\u001b[0m\u001b[1;33m.\u001b[0m\u001b[0mbind\u001b[0m\u001b[1;33m(\u001b[0m\u001b[1;34m\"<KeyRelease>\"\u001b[0m\u001b[1;33m,\u001b[0m \u001b[0monTextChange\u001b[0m\u001b[1;33m)\u001b[0m \u001b[1;31m#user entered a char\u001b[0m\u001b[1;33m\u001b[0m\u001b[1;33m\u001b[0m\u001b[0m\n",
      "\u001b[1;31mNameError\u001b[0m: name 'drawChar' is not defined"
     ]
    }
   ],
   "source": [
    "#define global canvas and stuff\n",
    "canvasSize = 800\n",
    "\n",
    "# Create object and size\n",
    "root = Tk()\n",
    "root.geometry( \"800x850\" )\n",
    "\n",
    "#add label for draw char, label, text\n",
    "charLabel = Label(root, text = \"Char: \")\n",
    "charLabel.pack()\n",
    "\n",
    "#handle user typing in a char\n",
    "entryText = StringVar()\n",
    "charEntry = Entry(root, width = 10, justify=\"center\", textvariable=entryText)\n",
    "entryText.set(drawChar) #default char\n",
    "charEntry.bind(\"<KeyPress>\", onTextClear) #user is about to finish typing a char\n",
    "charEntry.bind(\"<KeyRelease>\", onTextChange) #user entered a char\n",
    "charEntry.pack()\n",
    "\n",
    "#button for processing the button\n",
    "processBtn = Button(root, text =\"Gen. Strokes\", command = saveCanvasAsImage)\n",
    "processBtn.pack()\n",
    "\n",
    "#setup canvas\n",
    "canvas = Canvas(root, bg=\"white\", height=canvasSize, width=canvasSize) #our drawing board\n",
    "canvas.create_text(400, 400, text=drawChar, font=('Microsoft YaHei','500'), fill='#555555')\n",
    "clickEventClear(0) #default arg of 0 as the event arg isn't used\n",
    "canvas.pack()\n",
    "\n",
    "#reset the lists before we re-run the tkinter app\n",
    "currChar = []\n",
    "currStroke = []\n",
    "\n",
    "canvas.bind(\"<Button-1>\", clickEventPoint) #setup the left click event, add a control point\n",
    "root.bind(\"<Key>\", clickEventClear) #setup the left click event, clear the canvas\n",
    "canvas.bind(\"<Double-Button-1>\", clickEventStroke) #setup the right click event, finalize stroke\n",
    "\n",
    "root.mainloop() #run the app"
   ]
  }
 ],
 "metadata": {
  "kernelspec": {
   "display_name": "Python 3",
   "language": "python",
   "name": "python3"
  },
  "language_info": {
   "codemirror_mode": {
    "name": "ipython",
    "version": 3
   },
   "file_extension": ".py",
   "mimetype": "text/x-python",
   "name": "python",
   "nbconvert_exporter": "python",
   "pygments_lexer": "ipython3",
   "version": "3.8.8"
  }
 },
 "nbformat": 4,
 "nbformat_minor": 5
}
