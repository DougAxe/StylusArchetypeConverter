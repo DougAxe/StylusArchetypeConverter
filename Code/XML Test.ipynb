{
 "cells": [
  {
   "cell_type": "markdown",
   "id": "every-skirt",
   "metadata": {},
   "source": [
    "## Example of making an xml file and saving it\n",
    "\n",
    "For this to be fully working the following need to be done.\n",
    "1. This would need to be put in its own .py file in a function (e.g. saveCharToXML, where the character is the only argument)\n",
    "2. In the app, the save & export button would need to call the function\n",
    "3. A batch mode would need to be added to convert all processed characters data files into xmls."
   ]
  },
  {
   "cell_type": "code",
   "execution_count": 40,
   "id": "civilian-gross",
   "metadata": {},
   "outputs": [
    {
     "ename": "FileNotFoundError",
     "evalue": "[Errno 2] No such file or directory: '../Data/XML/test.xml'",
     "output_type": "error",
     "traceback": [
      "\u001b[1;31m---------------------------------------------------------------------------\u001b[0m",
      "\u001b[1;31mFileNotFoundError\u001b[0m                         Traceback (most recent call last)",
      "\u001b[1;32m<ipython-input-40-d3375c59c482>\u001b[0m in \u001b[0;36m<module>\u001b[1;34m\u001b[0m\n\u001b[0;32m     25\u001b[0m \u001b[0mtree\u001b[0m\u001b[1;33m.\u001b[0m\u001b[0mwrite\u001b[0m\u001b[1;33m(\u001b[0m\u001b[1;34m\"../Data/test.xml\"\u001b[0m\u001b[1;33m)\u001b[0m\u001b[1;33m\u001b[0m\u001b[1;33m\u001b[0m\u001b[0m\n\u001b[0;32m     26\u001b[0m \u001b[1;31m#slightly awkward, but load the file we just wrote and append the xml decleration beforehand\u001b[0m\u001b[1;33m\u001b[0m\u001b[1;33m\u001b[0m\u001b[1;33m\u001b[0m\u001b[0m\n\u001b[1;32m---> 27\u001b[1;33m \u001b[1;32mwith\u001b[0m \u001b[0mopen\u001b[0m\u001b[1;33m(\u001b[0m\u001b[1;34m\"../Data/XML/test.xml\"\u001b[0m\u001b[1;33m,\u001b[0m \u001b[1;34m'r'\u001b[0m\u001b[1;33m)\u001b[0m \u001b[1;32mas\u001b[0m \u001b[0mfile\u001b[0m\u001b[1;33m:\u001b[0m\u001b[1;33m\u001b[0m\u001b[1;33m\u001b[0m\u001b[0m\n\u001b[0m\u001b[0;32m     28\u001b[0m     \u001b[0mlines\u001b[0m \u001b[1;33m=\u001b[0m \u001b[0mfile\u001b[0m\u001b[1;33m.\u001b[0m\u001b[0mreadlines\u001b[0m\u001b[1;33m(\u001b[0m\u001b[1;33m)\u001b[0m\u001b[1;33m\u001b[0m\u001b[1;33m\u001b[0m\u001b[0m\n\u001b[0;32m     29\u001b[0m \u001b[1;32mwith\u001b[0m \u001b[0mopen\u001b[0m\u001b[1;33m(\u001b[0m\u001b[1;34m\"../Data/XML/test.xml\"\u001b[0m\u001b[1;33m,\u001b[0m \u001b[1;34m'w'\u001b[0m\u001b[1;33m)\u001b[0m \u001b[1;32mas\u001b[0m \u001b[0mfile\u001b[0m\u001b[1;33m:\u001b[0m\u001b[1;33m\u001b[0m\u001b[1;33m\u001b[0m\u001b[0m\n",
      "\u001b[1;31mFileNotFoundError\u001b[0m: [Errno 2] No such file or directory: '../Data/XML/test.xml'"
     ]
    }
   ],
   "source": [
    "from xml.etree import ElementTree as ET\n",
    "import FitDef as fd\n",
    "\n",
    "char = \"\\u4f4d\" #just an example char\n",
    "charData = fd.loadFits(char)\n",
    "\n",
    "hanDefinition = ET.Element('hanDefinition')\n",
    "hanDefinition.set(\"unicode\", format(ord(char), \"x\")) #e.g. 70D0\n",
    "hanDefinition.set(\"creationTool\",\"StylusApp 1.0\")\n",
    "\n",
    "boundsMain = ET.SubElement(hanDefinition, \"bounds\")\n",
    "#add attributes here\n",
    "\n",
    "groups = ET.SubElement(hanDefinition, 'groups')\n",
    "#add each group element and attributes...\n",
    "    \n",
    "strokes = ET.SubElement(hanDefinition, 'strokes')\n",
    "for fit in charData.fits:\n",
    "    stroke = ET.SubElement(strokes, 'group')\n",
    "    bounds = ET.SubElement(stroke, \"bounds\")\n",
    "#and so on...\n",
    "\n",
    "#save the xml to files\n",
    "tree = ET.ElementTree(hanDefinition)\n",
    "tree.write(\"../Data/test.xml\")\n",
    "#slightly awkward, but load the file we just wrote and append the xml decleration beforehand\n",
    "with open(\"../Data/XML/test.xml\", 'r') as file:\n",
    "    lines = file.readlines()\n",
    "with open(\"../Data/XML/test.xml\", 'w') as file:\n",
    "        file.write(\"<?xml version='1.0' standalone='no'?>\" + \"\\n\") #text in byte mode\n",
    "        for line in lines:\n",
    "            line  = line.replace(\">\", \">\\n\")\n",
    "            file.write(line + \"\\n\")"
   ]
  },
  {
   "cell_type": "code",
   "execution_count": null,
   "id": "major-alert",
   "metadata": {},
   "outputs": [],
   "source": []
  }
 ],
 "metadata": {
  "kernelspec": {
   "display_name": "Python 3",
   "language": "python",
   "name": "python3"
  },
  "language_info": {
   "codemirror_mode": {
    "name": "ipython",
    "version": 3
   },
   "file_extension": ".py",
   "mimetype": "text/x-python",
   "name": "python",
   "nbconvert_exporter": "python",
   "pygments_lexer": "ipython3",
   "version": "3.8.8"
  }
 },
 "nbformat": 4,
 "nbformat_minor": 5
}
